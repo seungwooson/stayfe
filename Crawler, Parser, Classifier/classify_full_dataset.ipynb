{
 "cells": [
  {
   "cell_type": "code",
   "execution_count": 37,
   "metadata": {
    "collapsed": true
   },
   "outputs": [],
   "source": [
    "import pandas as pd\n",
    "import numpy as np"
   ]
  },
  {
   "cell_type": "code",
   "execution_count": 38,
   "metadata": {},
   "outputs": [
    {
     "data": {
      "text/html": [
       "<div>\n",
       "<style>\n",
       "    .dataframe thead tr:only-child th {\n",
       "        text-align: right;\n",
       "    }\n",
       "\n",
       "    .dataframe thead th {\n",
       "        text-align: left;\n",
       "    }\n",
       "\n",
       "    .dataframe tbody tr th {\n",
       "        vertical-align: top;\n",
       "    }\n",
       "</style>\n",
       "<table border=\"1\" class=\"dataframe\">\n",
       "  <thead>\n",
       "    <tr style=\"text-align: right;\">\n",
       "      <th></th>\n",
       "      <th>Unnamed: 0</th>\n",
       "      <th>LABEL</th>\n",
       "      <th>URL</th>\n",
       "      <th>Title</th>\n",
       "      <th>Published_Date</th>\n",
       "      <th>Body_Text</th>\n",
       "      <th>Tokenized_List</th>\n",
       "      <th>Sentence</th>\n",
       "      <th>Time</th>\n",
       "      <th>Address</th>\n",
       "      <th>Lat</th>\n",
       "      <th>Lon</th>\n",
       "      <th>Crime_Type</th>\n",
       "    </tr>\n",
       "  </thead>\n",
       "  <tbody>\n",
       "    <tr>\n",
       "      <th>0</th>\n",
       "      <td>0</td>\n",
       "      <td>abc7news</td>\n",
       "      <td>http://abc7news.com/news/man-found-guilty-in-2...</td>\n",
       "      <td>Man found guilty in brutal 2013 double murder ...</td>\n",
       "      <td>2017-07-06T21:34:24.000Z</td>\n",
       "      <td>SAN FRANCISCO -- An Antioch man was found guil...</td>\n",
       "      <td>['SAN FRANCISCO -- An Antioch man was found gu...</td>\n",
       "      <td>White was on trial for the attack at Victoga I...</td>\n",
       "      <td>NaN</td>\n",
       "      <td>888 Brannan St, San Francisco, CA 94103, USA</td>\n",
       "      <td>37.772123</td>\n",
       "      <td>-122.405293</td>\n",
       "      <td>NaN</td>\n",
       "    </tr>\n",
       "    <tr>\n",
       "      <th>1</th>\n",
       "      <td>1</td>\n",
       "      <td>abc7news</td>\n",
       "      <td>http://abc7news.com/news/sf-church-volunteer-p...</td>\n",
       "      <td>San Francisco church volunteer pleads not guil...</td>\n",
       "      <td>2017-07-05T22:33:21.000Z</td>\n",
       "      <td>SAN FRANCISCO (KGO) -- A volunteer for a San F...</td>\n",
       "      <td>['SAN FRANCISCO (KGO) -- A volunteer for a San...</td>\n",
       "      <td>Marvin Sotorizo helped out at a small Protesta...</td>\n",
       "      <td>NaN</td>\n",
       "      <td>25th St &amp; San Francisco Bicycle Rte 25, San Fr...</td>\n",
       "      <td>37.751736</td>\n",
       "      <td>-122.406168</td>\n",
       "      <td>NaN</td>\n",
       "    </tr>\n",
       "    <tr>\n",
       "      <th>2</th>\n",
       "      <td>2</td>\n",
       "      <td>abc7news</td>\n",
       "      <td>http://abc7news.com/news/nypd-officer-assassin...</td>\n",
       "      <td>NYPD officer 'assassinated' in shooting in Tre...</td>\n",
       "      <td>2017-07-05T11:27:26.000Z</td>\n",
       "      <td>NEW YORK -- An NYPD officer died after being s...</td>\n",
       "      <td>['NEW YORK -- An NYPD officer died after being...</td>\n",
       "      <td>RELATED: Suspected gunman in NYPD officer shoo...</td>\n",
       "      <td>NaN</td>\n",
       "      <td>Morris Ave &amp; E 183rd St, Bronx, NY 10453, USA</td>\n",
       "      <td>40.858095</td>\n",
       "      <td>-73.901924</td>\n",
       "      <td>NaN</td>\n",
       "    </tr>\n",
       "    <tr>\n",
       "      <th>3</th>\n",
       "      <td>3</td>\n",
       "      <td>abc7news</td>\n",
       "      <td>http://abc7news.com/news/report-oakland-driver...</td>\n",
       "      <td>Report: Oakland driver shot in apparent road r...</td>\n",
       "      <td>2017-07-05T01:53:24.000Z</td>\n",
       "      <td>OAKLAND, Calif. (KGO) -- Oakland police are lo...</td>\n",
       "      <td>['OAKLAND, Calif. (KGO) -- Oakland police are ...</td>\n",
       "      <td>Police say the 23-year-old victim was driving ...</td>\n",
       "      <td>NaN</td>\n",
       "      <td>58th Ave &amp; Tevis St, Oakland, CA 94621, USA</td>\n",
       "      <td>37.763375</td>\n",
       "      <td>-122.203365</td>\n",
       "      <td>NaN</td>\n",
       "    </tr>\n",
       "    <tr>\n",
       "      <th>4</th>\n",
       "      <td>4</td>\n",
       "      <td>abc7news</td>\n",
       "      <td>http://abc7news.com/news/family-of-antioch-val...</td>\n",
       "      <td>Family of Antioch Valero employee shot, killed...</td>\n",
       "      <td>2017-07-04T23:07:28.000Z</td>\n",
       "      <td>ANTIOCH, Calif. (KGO) -- The widow and three c...</td>\n",
       "      <td>['ANTIOCH, Calif. (KGO) -- The widow and three...</td>\n",
       "      <td>He worked at the gas station on East 18th Stre...</td>\n",
       "      <td>NaN</td>\n",
       "      <td>Hillcrest Ave &amp; E 18th St, Antioch, CA 94509, USA</td>\n",
       "      <td>38.004136</td>\n",
       "      <td>-121.787680</td>\n",
       "      <td>NaN</td>\n",
       "    </tr>\n",
       "  </tbody>\n",
       "</table>\n",
       "</div>"
      ],
      "text/plain": [
       "   Unnamed: 0     LABEL                                                URL  \\\n",
       "0           0  abc7news  http://abc7news.com/news/man-found-guilty-in-2...   \n",
       "1           1  abc7news  http://abc7news.com/news/sf-church-volunteer-p...   \n",
       "2           2  abc7news  http://abc7news.com/news/nypd-officer-assassin...   \n",
       "3           3  abc7news  http://abc7news.com/news/report-oakland-driver...   \n",
       "4           4  abc7news  http://abc7news.com/news/family-of-antioch-val...   \n",
       "\n",
       "                                               Title  \\\n",
       "0  Man found guilty in brutal 2013 double murder ...   \n",
       "1  San Francisco church volunteer pleads not guil...   \n",
       "2  NYPD officer 'assassinated' in shooting in Tre...   \n",
       "3  Report: Oakland driver shot in apparent road r...   \n",
       "4  Family of Antioch Valero employee shot, killed...   \n",
       "\n",
       "             Published_Date  \\\n",
       "0  2017-07-06T21:34:24.000Z   \n",
       "1  2017-07-05T22:33:21.000Z   \n",
       "2  2017-07-05T11:27:26.000Z   \n",
       "3  2017-07-05T01:53:24.000Z   \n",
       "4  2017-07-04T23:07:28.000Z   \n",
       "\n",
       "                                           Body_Text  \\\n",
       "0  SAN FRANCISCO -- An Antioch man was found guil...   \n",
       "1  SAN FRANCISCO (KGO) -- A volunteer for a San F...   \n",
       "2  NEW YORK -- An NYPD officer died after being s...   \n",
       "3  OAKLAND, Calif. (KGO) -- Oakland police are lo...   \n",
       "4  ANTIOCH, Calif. (KGO) -- The widow and three c...   \n",
       "\n",
       "                                      Tokenized_List  \\\n",
       "0  ['SAN FRANCISCO -- An Antioch man was found gu...   \n",
       "1  ['SAN FRANCISCO (KGO) -- A volunteer for a San...   \n",
       "2  ['NEW YORK -- An NYPD officer died after being...   \n",
       "3  ['OAKLAND, Calif. (KGO) -- Oakland police are ...   \n",
       "4  ['ANTIOCH, Calif. (KGO) -- The widow and three...   \n",
       "\n",
       "                                            Sentence  Time  \\\n",
       "0  White was on trial for the attack at Victoga I...   NaN   \n",
       "1  Marvin Sotorizo helped out at a small Protesta...   NaN   \n",
       "2  RELATED: Suspected gunman in NYPD officer shoo...   NaN   \n",
       "3  Police say the 23-year-old victim was driving ...   NaN   \n",
       "4  He worked at the gas station on East 18th Stre...   NaN   \n",
       "\n",
       "                                             Address        Lat         Lon  \\\n",
       "0       888 Brannan St, San Francisco, CA 94103, USA  37.772123 -122.405293   \n",
       "1  25th St & San Francisco Bicycle Rte 25, San Fr...  37.751736 -122.406168   \n",
       "2      Morris Ave & E 183rd St, Bronx, NY 10453, USA  40.858095  -73.901924   \n",
       "3        58th Ave & Tevis St, Oakland, CA 94621, USA  37.763375 -122.203365   \n",
       "4  Hillcrest Ave & E 18th St, Antioch, CA 94509, USA  38.004136 -121.787680   \n",
       "\n",
       "   Crime_Type  \n",
       "0         NaN  \n",
       "1         NaN  \n",
       "2         NaN  \n",
       "3         NaN  \n",
       "4         NaN  "
      ]
     },
     "execution_count": 38,
     "metadata": {},
     "output_type": "execute_result"
    }
   ],
   "source": [
    "data = pd.read_csv(\"./full_dataset.csv\")\n",
    "data.head()"
   ]
  },
  {
   "cell_type": "code",
   "execution_count": 39,
   "metadata": {},
   "outputs": [],
   "source": [
    "data = data.drop(data.columns[0], axis=1)"
   ]
  },
  {
   "cell_type": "code",
   "execution_count": 41,
   "metadata": {
    "collapsed": true
   },
   "outputs": [],
   "source": [
    "weapons = {\n",
    "        'gun':['gun','shooting', 'shot', 'armed', 'firearm'], \n",
    "        'bomb':['explode', 'explosion', 'b omb']\n",
    "        }\n",
    "crimes = {\n",
    "        'robbery':['robbery','robbed', 'robber'], \n",
    "        'murder':['murder', 'massacre', 'homicide', 'kill', 'stab', 'assassin', 'shooting', 'shot'], \n",
    "        'rape':['rape', 'rapist', 'sexual assault'],\n",
    "        'theft':['theft', 'pick-pocket', 'steal', 'burglar', 'stolen'],\n",
    "        'assault':['assault', 'hit', 'punch', 'kick'],\n",
    "        'kidnap':['kidnap']\n",
    "         }"
   ]
  },
  {
   "cell_type": "code",
   "execution_count": 42,
   "metadata": {
    "collapsed": true
   },
   "outputs": [],
   "source": [
    "def get_keys(text, dic):\n",
    "    keys = []\n",
    "    for k, v in dic.items():\n",
    "        try:\n",
    "            if any([V in text for V in v]):\n",
    "                keys.append(k)\n",
    "        except(TypeError):\n",
    "            return ''\n",
    "    return ','.join(keys)"
   ]
  },
  {
   "cell_type": "code",
   "execution_count": 43,
   "metadata": {
    "collapsed": true
   },
   "outputs": [],
   "source": [
    "data['Crime_Type'] = [get_keys(text, crimes) for text in data['Body_Text']]\n",
    "data['Weapon'] = [get_keys(text, weapons) for text in data['Body_Text']]"
   ]
  },
  {
   "cell_type": "code",
   "execution_count": 44,
   "metadata": {
    "collapsed": true
   },
   "outputs": [],
   "source": [
    "from dateutil import parser"
   ]
  },
  {
   "cell_type": "code",
   "execution_count": 46,
   "metadata": {},
   "outputs": [
    {
     "name": "stderr",
     "output_type": "stream",
     "text": [
      "/Users/seungwooson/anaconda/lib/python3.6/site-packages/ipykernel_launcher.py:2: SettingWithCopyWarning: \n",
      "A value is trying to be set on a copy of a slice from a DataFrame\n",
      "\n",
      "See the caveats in the documentation: http://pandas.pydata.org/pandas-docs/stable/indexing.html#indexing-view-versus-copy\n",
      "  \n"
     ]
    }
   ],
   "source": [
    "for i in range(len(data[\"Published_Date\"])):\n",
    "    data[\"Published_Date\"][i] = parser.parse(data[\"Published_Date\"][i])"
   ]
  },
  {
   "cell_type": "code",
   "execution_count": 54,
   "metadata": {},
   "outputs": [],
   "source": [
    "data[\"Time\"] = data[\"Published_Date\"]"
   ]
  },
  {
   "cell_type": "code",
   "execution_count": 65,
   "metadata": {},
   "outputs": [],
   "source": [
    "light_data = data[[\"Lat\", \"Lon\", \"Crime_Type\", \"Weapon\", \"Time\"]]"
   ]
  },
  {
   "cell_type": "code",
   "execution_count": 67,
   "metadata": {},
   "outputs": [],
   "source": [
    "light_data.to_csv(\"light_full_classified.csv\")"
   ]
  },
  {
   "cell_type": "code",
   "execution_count": 56,
   "metadata": {
    "collapsed": true
   },
   "outputs": [],
   "source": [
    "data.to_csv(\"full_classified_data.csv\")"
   ]
  },
  {
   "cell_type": "code",
   "execution_count": null,
   "metadata": {
    "collapsed": true
   },
   "outputs": [],
   "source": []
  }
 ],
 "metadata": {
  "kernelspec": {
   "display_name": "Python 3",
   "language": "python",
   "name": "python3"
  },
  "language_info": {
   "codemirror_mode": {
    "name": "ipython",
    "version": 3
   },
   "file_extension": ".py",
   "mimetype": "text/x-python",
   "name": "python",
   "nbconvert_exporter": "python",
   "pygments_lexer": "ipython3",
   "version": "3.6.1"
  }
 },
 "nbformat": 4,
 "nbformat_minor": 2
}
